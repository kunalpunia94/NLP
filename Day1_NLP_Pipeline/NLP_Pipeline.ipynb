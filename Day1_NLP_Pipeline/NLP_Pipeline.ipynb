{
 "cells": [
  {
   "cell_type": "markdown",
   "id": "d51e53ec-8244-4f87-8287-1557b5c6c064",
   "metadata": {},
   "source": [
    "# Removing HTML Tags"
   ]
  },
  {
   "cell_type": "code",
   "execution_count": 9,
   "id": "4b837755-8455-477f-a6f1-b6fdd3d53523",
   "metadata": {},
   "outputs": [],
   "source": [
    "raw_data = \"\"\"\n",
    "<p>This movie was <b>amazing</b>! I loved the plot and the visuals.</p>\n",
    "<div>Worst movie ever. <br>Don't waste your time.</div>\n",
    "<span style='color:red'>Absolutely loved</span> the characters!\n",
    "It was <i>okay</i>, not great, not terrible.\n",
    "Check out the trailer <a href='https://example.com'>here</a>.\n",
    "\"\"\""
   ]
  },
  {
   "cell_type": "code",
   "execution_count": 10,
   "id": "f48c5021-3855-42b6-bc22-127f23fd20c4",
   "metadata": {},
   "outputs": [],
   "source": [
    "import re\n",
    "def striphtml(data):\n",
    "    p = re.compile(r'<.*?>')\n",
    "    return p.sub('',data)"
   ]
  },
  {
   "cell_type": "code",
   "execution_count": 11,
   "id": "f9c8188b-9cd1-4324-8631-669ce0a6a562",
   "metadata": {},
   "outputs": [
    {
     "data": {
      "text/plain": [
       "\"\\nThis movie was amazing! I loved the plot and the visuals.\\nWorst movie ever. Don't waste your time.\\nAbsolutely loved the characters!\\nIt was okay, not great, not terrible.\\nCheck out the trailer here.\\n\""
      ]
     },
     "execution_count": 11,
     "metadata": {},
     "output_type": "execute_result"
    }
   ],
   "source": [
    "striphtml(raw_data)"
   ]
  },
  {
   "cell_type": "markdown",
   "id": "e8a6fa8f-7dab-4dfa-bfef-fada0a887e29",
   "metadata": {},
   "source": [
    "# Unicode Normalization->to remove emojis"
   ]
  },
  {
   "cell_type": "code",
   "execution_count": 12,
   "id": "1375eedd-50fe-461a-bd6b-7d1e848ed6f1",
   "metadata": {},
   "outputs": [],
   "source": [
    "raw_unicode = \"Café\\u0301 is the same as Café. I love it! 　Here’s some weird space. 𝓣𝓮𝔁𝔱 😍 👍🏼\""
   ]
  },
  {
   "cell_type": "code",
   "execution_count": 13,
   "id": "5a326623-19e2-4e35-baa6-06e4984c9a36",
   "metadata": {},
   "outputs": [
    {
     "data": {
      "text/plain": [
       "b'Caf\\xc3\\xa9\\xcc\\x81 is the same as Caf\\xc3\\xa9. I love it! \\xe3\\x80\\x80Here\\xe2\\x80\\x99s some weird space. \\xf0\\x9d\\x93\\xa3\\xf0\\x9d\\x93\\xae\\xf0\\x9d\\x94\\x81\\xf0\\x9d\\x94\\xb1 \\xf0\\x9f\\x98\\x8d \\xf0\\x9f\\x91\\x8d\\xf0\\x9f\\x8f\\xbc'"
      ]
     },
     "execution_count": 13,
     "metadata": {},
     "output_type": "execute_result"
    }
   ],
   "source": [
    "raw_unicode.encode('utf-8')"
   ]
  },
  {
   "cell_type": "markdown",
   "id": "5af03cfe-4376-4c52-8416-075a4965079b",
   "metadata": {},
   "source": [
    "# Spell Check"
   ]
  },
  {
   "cell_type": "code",
   "execution_count": 14,
   "id": "5a9d3009-60f0-4b2f-9e11-d211a1fa75b3",
   "metadata": {},
   "outputs": [],
   "source": [
    "spell_data = \"\"\"\n",
    "This movi was absolutly amazngg! I cudn't belive how beautifl the scenes were.\n",
    "The dirrector did a greta job, but the actresess were a bit unconvincing.\n",
    "Overal, I'd recomend it for a casual watch, but not if you're luking for somthing serius.\n",
    "\"\"\""
   ]
  },
  {
   "cell_type": "code",
   "execution_count": 20,
   "id": "a4de8594-21c0-4ff6-8768-b181ba3ef669",
   "metadata": {},
   "outputs": [
    {
     "data": {
      "text/plain": [
       "TextBlob(\"\n",
       "His move was absolutely amazing! I can't believe how beautiful the scenes were.\n",
       "The director did a great job, but the actresses were a bit convincing.\n",
       "Several, I'd recommend it for a casual watch, but not if you're liking for something serious.\n",
       "\")"
      ]
     },
     "execution_count": 20,
     "metadata": {},
     "output_type": "execute_result"
    }
   ],
   "source": [
    "from textblob import TextBlob\n",
    "\n",
    "textblb = TextBlob(spell_data)\n",
    "textblb.correct()\n"
   ]
  },
  {
   "cell_type": "markdown",
   "id": "ae3a8db8-e13d-4f0d-839f-9a8c16247d6a",
   "metadata": {},
   "source": [
    "# Tokenization"
   ]
  },
  {
   "cell_type": "code",
   "execution_count": 21,
   "id": "e54e3213-e5c0-44bf-9336-39fe6121ab4c",
   "metadata": {},
   "outputs": [],
   "source": [
    "dummy_text = \"\"\"\n",
    "Artificial intelligence is transforming the world in remarkable ways. From self-driving cars to real-time language translation, AI technologies are becoming a part of everyday life. \n",
    "However, with great power comes great responsibility — ethical concerns, data privacy, and bias in algorithms are all challenges that must be addressed. \n",
    "Still, the potential benefits are enormous. Will machines ever fully understand human emotions? Only time will tell.\n",
    "\"\"\"\n"
   ]
  },
  {
   "cell_type": "code",
   "execution_count": 23,
   "id": "1b13a011-2ec6-4748-aa82-96cdc3d5e656",
   "metadata": {},
   "outputs": [],
   "source": [
    "from nltk.tokenize import sent_tokenize, word_tokenize"
   ]
  },
  {
   "cell_type": "code",
   "execution_count": 28,
   "id": "a6477718-b856-4bef-ad85-892d9a4e4ae7",
   "metadata": {},
   "outputs": [
    {
     "data": {
      "text/plain": [
       "['\\nArtificial intelligence is transforming the world in remarkable ways.',\n",
       " 'From self-driving cars to real-time language translation, AI technologies are becoming a part of everyday life.',\n",
       " 'However, with great power comes great responsibility — ethical concerns, data privacy, and bias in algorithms are all challenges that must be addressed.',\n",
       " 'Still, the potential benefits are enormous.',\n",
       " 'Will machines ever fully understand human emotions?',\n",
       " 'Only time will tell.']"
      ]
     },
     "execution_count": 28,
     "metadata": {},
     "output_type": "execute_result"
    }
   ],
   "source": [
    "sent = sent_tokenize(dummy_text)\n",
    "sent #based on full stop it divided"
   ]
  },
  {
   "cell_type": "code",
   "execution_count": 29,
   "id": "bd38982b-dd44-4fcf-9b57-c313b323f1a8",
   "metadata": {},
   "outputs": [
    {
     "name": "stdout",
     "output_type": "stream",
     "text": [
      "['Artificial', 'intelligence', 'is', 'transforming', 'the', 'world', 'in', 'remarkable', 'ways', '.']\n",
      "['From', 'self-driving', 'cars', 'to', 'real-time', 'language', 'translation', ',', 'AI', 'technologies', 'are', 'becoming', 'a', 'part', 'of', 'everyday', 'life', '.']\n",
      "['However', ',', 'with', 'great', 'power', 'comes', 'great', 'responsibility', '—', 'ethical', 'concerns', ',', 'data', 'privacy', ',', 'and', 'bias', 'in', 'algorithms', 'are', 'all', 'challenges', 'that', 'must', 'be', 'addressed', '.']\n",
      "['Still', ',', 'the', 'potential', 'benefits', 'are', 'enormous', '.']\n",
      "['Will', 'machines', 'ever', 'fully', 'understand', 'human', 'emotions', '?']\n",
      "['Only', 'time', 'will', 'tell', '.']\n"
     ]
    }
   ],
   "source": [
    "for sen in sent:\n",
    "    print(word_tokenize(sen))"
   ]
  },
  {
   "cell_type": "code",
   "execution_count": null,
   "id": "bce14dcb-1fcf-4118-a731-1cf108d151cf",
   "metadata": {},
   "outputs": [],
   "source": []
  }
 ],
 "metadata": {
  "kernelspec": {
   "display_name": "Python 3 (ipykernel)",
   "language": "python",
   "name": "python3"
  },
  "language_info": {
   "codemirror_mode": {
    "name": "ipython",
    "version": 3
   },
   "file_extension": ".py",
   "mimetype": "text/x-python",
   "name": "python",
   "nbconvert_exporter": "python",
   "pygments_lexer": "ipython3",
   "version": "3.12.7"
  }
 },
 "nbformat": 4,
 "nbformat_minor": 5
}
